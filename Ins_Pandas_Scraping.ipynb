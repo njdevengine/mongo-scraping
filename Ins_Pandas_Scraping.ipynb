{
 "cells": [
  {
   "cell_type": "markdown",
   "metadata": {
    "slideshow": {
     "slide_type": "slide"
    }
   },
   "source": [
    "# Scraping with Pandas"
   ]
  },
  {
   "cell_type": "code",
   "execution_count": 1,
   "metadata": {
    "slideshow": {
     "slide_type": "slide"
    }
   },
   "outputs": [],
   "source": [
    "import pandas as pd"
   ]
  },
  {
   "cell_type": "markdown",
   "metadata": {
    "slideshow": {
     "slide_type": "subslide"
    }
   },
   "source": [
    "We can use the `read_html` function in Pandas to automatically scrape any tabular data from a page."
   ]
  },
  {
   "cell_type": "code",
   "execution_count": 2,
   "metadata": {
    "slideshow": {
     "slide_type": "fragment"
    }
   },
   "outputs": [],
   "source": [
    "url = 'https://en.wikipedia.org/wiki/List_of_capitals_in_the_United_States'"
   ]
  },
  {
   "cell_type": "code",
   "execution_count": 3,
   "metadata": {
    "slideshow": {
     "slide_type": "fragment"
    }
   },
   "outputs": [
    {
     "data": {
      "text/plain": [
       "[             State Abr. State-hood         Capital Capital since Area (mi²)  \\\n",
       "              State Abr. State-hood         Capital Capital since Area (mi²)   \n",
       " 0          Alabama   AL       1819      Montgomery          1846     155.40   \n",
       " 1           Alaska   AK       1959          Juneau          1906    2716.70   \n",
       " 2          Arizona   AZ       1912         Phoenix          1889     474.90   \n",
       " 3         Arkansas   AR       1836     Little Rock          1821     116.20   \n",
       " 4       California   CA       1850      Sacramento          1854      97.20   \n",
       " 5         Colorado   CO       1876          Denver          1867     153.40   \n",
       " 6      Connecticut   CT       1788        Hartford          1875      17.30   \n",
       " 7         Delaware   DE       1787           Dover          1777      22.40   \n",
       " 8          Florida   FL       1845     Tallahassee          1824      95.70   \n",
       " 9          Georgia   GA       1788         Atlanta          1868     131.70   \n",
       " 10          Hawaii   HI       1959        Honolulu          1845      85.70   \n",
       " 11           Idaho   ID       1890           Boise          1865      63.80   \n",
       " 12        Illinois   IL       1818     Springfield          1837      54.00   \n",
       " 13         Indiana   IN       1816    Indianapolis          1825     361.50   \n",
       " 14            Iowa   IA       1846      Des Moines          1857      75.80   \n",
       " 15          Kansas   KS       1861          Topeka          1856      56.00   \n",
       " 16        Kentucky   KY       1792       Frankfort          1792      14.70   \n",
       " 17       Louisiana   LA       1812     Baton Rouge          1880      76.80   \n",
       " 18           Maine   ME       1820         Augusta          1832      55.40   \n",
       " 19        Maryland   MD       1788       Annapolis          1694       6.73   \n",
       " 20   Massachusetts   MA       1788          Boston          1630      48.40   \n",
       " 21        Michigan   MI       1837         Lansing          1847      35.00   \n",
       " 22       Minnesota   MN       1858      Saint Paul          1849      52.80   \n",
       " 23     Mississippi   MS       1817         Jackson          1821     104.90   \n",
       " 24        Missouri   MO       1821  Jefferson City          1826      27.30   \n",
       " 25         Montana   MT       1889          Helena          1875      14.00   \n",
       " 26        Nebraska   NE       1867         Lincoln          1867      74.60   \n",
       " 27          Nevada   NV       1864     Carson City          1861     143.40   \n",
       " 28   New Hampshire   NH       1788         Concord          1808      64.30   \n",
       " 29      New Jersey   NJ       1787         Trenton          1784       7.66   \n",
       " 30      New Mexico   NM       1912        Santa Fe          1610      37.30   \n",
       " 31        New York   NY       1788          Albany          1797      21.40   \n",
       " 32  North Carolina   NC       1789         Raleigh          1792     114.60   \n",
       " 33    North Dakota   ND       1889        Bismarck          1883      26.90   \n",
       " 34            Ohio   OH       1803        Columbus          1816     210.30   \n",
       " 35        Oklahoma   OK       1907   Oklahoma City          1910     607.00   \n",
       " 36          Oregon   OR       1859           Salem          1855      45.70   \n",
       " 37    Pennsylvania   PA       1787      Harrisburg          1812       8.11   \n",
       " 38    Rhode Island   RI       1790      Providence          1900      18.50   \n",
       " 39  South Carolina   SC       1788        Columbia          1786     125.20   \n",
       " 40    South Dakota   SD       1889          Pierre          1889      13.00   \n",
       " 41       Tennessee   TN       1796       Nashville          1826     473.30   \n",
       " 42           Texas   TX       1845          Austin          1839     251.50   \n",
       " 43            Utah   UT       1896  Salt Lake City          1858     109.10   \n",
       " 44         Vermont   VT       1791      Montpelier          1805      10.20   \n",
       " 45        Virginia   VA       1788        Richmond          1780      60.10   \n",
       " 46      Washington   WA       1889         Olympia          1853      16.70   \n",
       " 47   West Virginia   WV       1863      Charleston          1885      31.60   \n",
       " 48       Wisconsin   WI       1848         Madison          1838      68.70   \n",
       " 49         Wyoming   WY       1890        Cheyenne          1869      21.10   \n",
       " \n",
       "                            Population (2010)  \\\n",
       "    Municipal (Within city proper boundaries)   \n",
       " 0                                     205764   \n",
       " 1                                      31275   \n",
       " 2                                    1445632   \n",
       " 3                                     193524   \n",
       " 4                                     466488   \n",
       " 5                                     600158   \n",
       " 6                                     124775   \n",
       " 7                                      36047   \n",
       " 8                                     181376   \n",
       " 9                                     420003   \n",
       " 10                                    337256   \n",
       " 11                                    205671   \n",
       " 12                                    116250   \n",
       " 13                                    820445   \n",
       " 14                                    203433   \n",
       " 15                                    127473   \n",
       " 16                                     25527   \n",
       " 17                                    229493   \n",
       " 18                                     19136   \n",
       " 19                                     38394   \n",
       " 20                                    617594   \n",
       " 21                                    114297   \n",
       " 22                                    285068   \n",
       " 23                                    173514   \n",
       " 24                                     43079   \n",
       " 25                                     28190   \n",
       " 26                                    258379   \n",
       " 27                                     55274   \n",
       " 28                                     42695   \n",
       " 29                                     84913   \n",
       " 30                                     75764   \n",
       " 31                                     97856   \n",
       " 32                                    403892   \n",
       " 33                                     61272   \n",
       " 34                                    879170   \n",
       " 35                                    579999   \n",
       " 36                                    154637   \n",
       " 37                                     49528   \n",
       " 38                                    178042   \n",
       " 39                                    129272   \n",
       " 40                                     13646   \n",
       " 41                                    601222   \n",
       " 42                                    790390   \n",
       " 43                                    186440   \n",
       " 44                                      7855   \n",
       " 45                                    204214   \n",
       " 46                                     46478   \n",
       " 47                                     51400   \n",
       " 48                                    233209   \n",
       " 49                                     59466   \n",
       " \n",
       "                                                                                                    \\\n",
       "    Metropolitan (Both within the capital city proper and the surrounding area of the city proper)   \n",
       " 0                                            374536.0                                               \n",
       " 1                                                 NaN                                               \n",
       " 2                                           4192887.0                                               \n",
       " 3                                            699757.0                                               \n",
       " 4                                           2149127.0                                               \n",
       " 5                                           2543482.0                                               \n",
       " 6                                           1212381.0                                               \n",
       " 7                                            162310.0                                               \n",
       " 8                                            367413.0                                               \n",
       " 9                                           5286728.0                                               \n",
       " 10                                           953207.0                                               \n",
       " 11                                           616561.0                                               \n",
       " 12                                           210170.0                                               \n",
       " 13                                          1887877.0                                               \n",
       " 14                                           569633.0                                               \n",
       " 15                                           230870.0                                               \n",
       " 16                                            70758.0                                               \n",
       " 17                                           802484.0                                               \n",
       " 18                                           117114.0                                               \n",
       " 19                                                NaN                                               \n",
       " 20                                          4552402.0                                               \n",
       " 21                                           464036.0                                               \n",
       " 22                                          3348659.0                                               \n",
       " 23                                           567122.0                                               \n",
       " 24                                           149807.0                                               \n",
       " 25                                            74801.0                                               \n",
       " 26                                           302157.0                                               \n",
       " 27                                                NaN                                               \n",
       " 28                                                NaN                                               \n",
       " 29                                           366513.0                                               \n",
       " 30                                           183732.0                                               \n",
       " 31                                           857592.0                                               \n",
       " 32                                          1130490.0                                               \n",
       " 33                                           108779.0                                               \n",
       " 34                                          2078725.0                                               \n",
       " 35                                          1252987.0                                               \n",
       " 36                                           390738.0                                               \n",
       " 37                                           647390.0                                               \n",
       " 38                                          1600852.0                                               \n",
       " 39                                           767598.0                                               \n",
       " 40                                                NaN                                               \n",
       " 41                                          1670890.0                                               \n",
       " 42                                          1716291.0                                               \n",
       " 43                                          1087873.0                                               \n",
       " 44                                                NaN                                               \n",
       " 45                                          1208101.0                                               \n",
       " 46                                           234670.0                                               \n",
       " 47                                           304214.0                                               \n",
       " 48                                           605435.0                                               \n",
       " 49                                            91738.0                                               \n",
       " \n",
       "                                                                          Notes  \n",
       "    Rank in state Rank in US                                              Notes  \n",
       " 0              2      102.0            Birmingham is the state's largest city.  \n",
       " 1              3        NaN            Largest capital by municipal land area.  \n",
       " 2              1        6.0  Phoenix is the most populous capital city in t...  \n",
       " 3              1      117.0                                                NaN  \n",
       " 4              6       35.0                                                NaN  \n",
       " 5              1       26.0          Denver was called Denver City until 1882.  \n",
       " 6              3      199.0                                                NaN  \n",
       " 7              2        NaN     Longest-serving capital in terms of statehood.  \n",
       " 8              7      125.0                                                NaN  \n",
       " 9              1       40.0     Most populous metro area of any state capital.  \n",
       " 10             1       53.0                                                NaN  \n",
       " 11             1      103.0                                                NaN  \n",
       " 12             6      221.0      Springfield was once home to Abraham Lincoln.  \n",
       " 13             1       16.0                                                NaN  \n",
       " 14             1      105.0                                                NaN  \n",
       " 15             4      193.0                                                NaN  \n",
       " 16            14        NaN                                                NaN  \n",
       " 17             2       85.0  Baton Rouge is located in the state's most pop...  \n",
       " 18             8        NaN                    Portland is a previous capital.  \n",
       " 19             7        NaN  Smallest capital by land area. Capitol buildin...  \n",
       " 20             1       22.0   Longest continuously serving capital in the U.S.  \n",
       " 21             5      226.0  Only state capital that is not also its county...  \n",
       " 22             2       67.0                                                NaN  \n",
       " 23             1      134.0  Only state capital that shares its status as c...  \n",
       " 24            15        NaN                                                NaN  \n",
       " 25             6        NaN                                                NaN  \n",
       " 26             2       72.0                                                NaN  \n",
       " 27             6        NaN  One of two independent cities that serves as a...  \n",
       " 28             3        NaN                                                NaN  \n",
       " 29            10        NaN  Served as the U.S. capital for a short period ...  \n",
       " 30             4        NaN  Longest serving capital in the United States. ...  \n",
       " 31             6        NaN                                                NaN  \n",
       " 32             2       43.0                                                NaN  \n",
       " 33             2        NaN                                                NaN  \n",
       " 34             1       14.0  Columbus is the largest city in Ohio, the seco...  \n",
       " 35             1       31.0            Shortest serving current state capital.  \n",
       " 36             3      149.0                                                NaN  \n",
       " 37             9        NaN                                                NaN  \n",
       " 38             1      130.0  Also served as the state's capital 1636–1686 a...  \n",
       " 39             2      191.0                                                NaN  \n",
       " 40             8        NaN                                                NaN  \n",
       " 41             1       25.0                                                NaN  \n",
       " 42             4       11.0  Austin is the largest state capital that is no...  \n",
       " 43             1      124.0                                                NaN  \n",
       " 44             6        NaN                 Least populous U.S. state capital.  \n",
       " 45             4      104.0  Richmond is one of two independent cities that...  \n",
       " 46            24        NaN                                                NaN  \n",
       " 47             1        NaN  Charleston is the smallest capital city that i...  \n",
       " 48             2       82.0                                                NaN  \n",
       " 49             1        NaN                                                NaN  ,\n",
       "                Insular area Abr.  Date           Capital  Population (2010)  \\\n",
       " 0            American Samoa   AS  1899         Pago Pago               3656   \n",
       " 1                      Guam   GU  1898           Hagåtña               1051   \n",
       " 2  Northern Mariana Islands   MP  1947            Saipan              48220   \n",
       " 3               Puerto Rico   PR  1898          San Juan             395326   \n",
       " 4       U.S. Virgin Islands   VI  1917  Charlotte Amalie              18481   \n",
       " \n",
       "                                                Notes  \n",
       " 0  Pago Pago refers to both a village and a group...  \n",
       " 1              Dededo is the area's largest village.  \n",
       " 2                                                NaN  \n",
       " 3  The city of San Juan was originally called Pue...  \n",
       " 4                                                NaN  ,\n",
       "                                State                                  Capital  \\\n",
       " 0       Alabama[14]Statehood in 1819                              San Agustín   \n",
       " 1       Alabama[14]Statehood in 1819                                 Savannah   \n",
       " 2       Alabama[14]Statehood in 1819                                 Savannah   \n",
       " 3       Alabama[14]Statehood in 1819                                 Savannah   \n",
       " 4       Alabama[14]Statehood in 1819                             Augusta (GA)   \n",
       " 5       Alabama[14]Statehood in 1819                        Heard's Fort (GA)   \n",
       " 6       Alabama[14]Statehood in 1819                             Augusta (GA)   \n",
       " 7       Alabama[14]Statehood in 1819                            Savannah (GA)   \n",
       " 8       Alabama[14]Statehood in 1819                            Ebenezer (GA)   \n",
       " 9       Alabama[14]Statehood in 1819                            Savannah (GA)   \n",
       " 10      Alabama[14]Statehood in 1819                             Augusta (GA)   \n",
       " 11      Alabama[14]Statehood in 1819                          Louisville (GA)   \n",
       " 12      Alabama[14]Statehood in 1819                             Natchez (MS)   \n",
       " 13      Alabama[14]Statehood in 1819                          Washington (MS)   \n",
       " 14      Alabama[14]Statehood in 1819                             St. Stephens   \n",
       " 15      Alabama[14]Statehood in 1819                               Huntsville   \n",
       " 16      Alabama[14]Statehood in 1819                                  Cahawba   \n",
       " 17      Alabama[14]Statehood in 1819                               Tuscaloosa   \n",
       " 18      Alabama[14]Statehood in 1819                               Montgomery   \n",
       " 19       Alaska[16]Statehood in 1959                    Novo-ArkhangelskSitka   \n",
       " 20       Alaska[16]Statehood in 1959                    Novo-ArkhangelskSitka   \n",
       " 21       Alaska[16]Statehood in 1959                    Novo-ArkhangelskSitka   \n",
       " 22       Alaska[16]Statehood in 1959                                   Juneau   \n",
       " 23       Alaska[16]Statehood in 1959                                   Juneau   \n",
       " 24       Alaska[16]Statehood in 1959                                   Juneau   \n",
       " 25      Arizona[17]Statehood in 1912                            Santa Fe (NM)   \n",
       " 26      Arizona[17]Statehood in 1912                            Santa Fe (NM)   \n",
       " 27      Arizona[17]Statehood in 1912                             Mesilla (NM)   \n",
       " 28      Arizona[17]Statehood in 1912                         San Antonio (TX)   \n",
       " 29      Arizona[17]Statehood in 1912                             Fort Whipple   \n",
       " ..                               ...                                      ...   \n",
       " 444    Virginia[46]Statehood in 1776            Middle PlantationWilliamsburg   \n",
       " 445    Virginia[46]Statehood in 1776                                 Richmond   \n",
       " 446  Washington[47]Statehood in 1889                            Champoeg (OR)   \n",
       " 447  Washington[47]Statehood in 1889                         Oregon City (OR)   \n",
       " 448  Washington[47]Statehood in 1889                         Oregon City (OR)   \n",
       " 449  Washington[47]Statehood in 1889                               Salem (OR)   \n",
       " 450  Washington[47]Statehood in 1889                                  Olympia   \n",
       " 451  Washington[47]Statehood in 1889                                  Olympia   \n",
       " 452   West VirginiaStatehood in 1863                           Jamestown (VA)   \n",
       " 453   West VirginiaStatehood in 1863  Middle Plantation (VA)Williamsburg (VA)   \n",
       " 454   West VirginiaStatehood in 1863  Middle Plantation (VA)Williamsburg (VA)   \n",
       " 455   West VirginiaStatehood in 1863  Middle Plantation (VA)Williamsburg (VA)   \n",
       " 456   West VirginiaStatehood in 1863                            Richmond (VA)   \n",
       " 457   West VirginiaStatehood in 1863                                 Wheeling   \n",
       " 458   West VirginiaStatehood in 1863                                 Wheeling   \n",
       " 459   West VirginiaStatehood in 1863                               Charleston   \n",
       " 460   West VirginiaStatehood in 1863                                 Wheeling   \n",
       " 461   West VirginiaStatehood in 1863                               Charleston   \n",
       " 462   Wisconsin[48]Statehood in 1848                            Marietta (OH)   \n",
       " 463   Wisconsin[48]Statehood in 1848                           Vincennes (IN)   \n",
       " 464   Wisconsin[48]Statehood in 1848                           Kaskaskia (IL)   \n",
       " 465   Wisconsin[48]Statehood in 1848                             Detroit (MI)   \n",
       " 466   Wisconsin[48]Statehood in 1848                                  Belmont   \n",
       " 467   Wisconsin[48]Statehood in 1848                          Burlington (IA)   \n",
       " 468   Wisconsin[48]Statehood in 1848                                  Madison   \n",
       " 469   Wisconsin[48]Statehood in 1848                                  Madison   \n",
       " 470     Wyoming[49]Statehood in 1890                            Lewiston (ID)   \n",
       " 471     Wyoming[49]Statehood in 1890                             Yankton (SD)   \n",
       " 472     Wyoming[49]Statehood in 1890                                 Cheyenne   \n",
       " 473     Wyoming[49]Statehood in 1890                                 Cheyenne   \n",
       " \n",
       "      Date                                              Notes  \n",
       " 0    1565   Capital of the Spanish colony of La Florida.[15]  \n",
       " 1    1733  Capital of the British proprietary Colony of G...  \n",
       " 2    1755        Capital of the British Province of Georgia.  \n",
       " 3    1776                  Capitals of the State of Georgia.  \n",
       " 4    1778                  Capitals of the State of Georgia.  \n",
       " 5    1780                  Capitals of the State of Georgia.  \n",
       " 6    1781                  Capitals of the State of Georgia.  \n",
       " 7    1782                  Capitals of the State of Georgia.  \n",
       " 8    1782                  Capitals of the State of Georgia.  \n",
       " 9    1784                  Capitals of the State of Georgia.  \n",
       " 10   1786                  Capitals of the State of Georgia.  \n",
       " 11   1796                  Capitals of the State of Georgia.  \n",
       " 12   1798             Capitals of the Mississippi Territory.  \n",
       " 13   1802             Capitals of the Mississippi Territory.  \n",
       " 14   1817                  Capital of the Alabama Territory.  \n",
       " 15   1819                  Capitals of the State of Alabama.  \n",
       " 16   1820                  Capitals of the State of Alabama.  \n",
       " 17   1826                  Capitals of the State of Alabama.  \n",
       " 18   1846  Capital of the State of Alabama.(Capital of th...  \n",
       " 19   1808           Capital of the Russian colony of Alaska.  \n",
       " 20   1867               Capital of the Department of Alaska.  \n",
       " 21   1900                Capitals of the District of Alaska.  \n",
       " 22   1906                Capitals of the District of Alaska.  \n",
       " 23   1912                Capital of the Territory of Alaska.  \n",
       " 24   1959                    Capital of the State of Alaska.  \n",
       " 25   1848  Capital of the U.S. provisional government of ...  \n",
       " 26   1850  Capital of the U.S. Territory of New Mexico 18...  \n",
       " 27   1862  Capital of the Confederate Territory of Arizon...  \n",
       " 28   1862  Capital of the government-in-exile of the Conf...  \n",
       " 29   1864         Capitals of the U.S. Territory of Arizona.  \n",
       " ..    ...                                                ...  \n",
       " 444  1776           Capital of the Commonwealth of Virginia.  \n",
       " 445  1780  Capital of the Commonwealth of Virginia.(Capit...  \n",
       " 446  1843  Temporary capital of the disputed Oregon Country.  \n",
       " 447  1843  Capital of the Provisional Government of Orego...  \n",
       " 448  1848               Capitals of the Territory of Oregon.  \n",
       " 449  1851               Capitals of the Territory of Oregon.  \n",
       " 450  1853            Capital of the Territory of Washington.  \n",
       " 451  1889                Capital of the State of Washington.  \n",
       " 452  1619        Capitals of the English Colony of Virginia.  \n",
       " 453  1698        Capitals of the English Colony of Virginia.  \n",
       " 454  1707         Capital of the British Colony of Virginia.  \n",
       " 455  1776          Capitals of the Commonwealth of Virginia.  \n",
       " 456  1780          Capitals of the Commonwealth of Virginia.  \n",
       " 457  1861  Capital of the rival pro-Union government of t...  \n",
       " 458  1863            Capitals of the State of West Virginia.  \n",
       " 459  1870            Capitals of the State of West Virginia.  \n",
       " 460  1875            Capitals of the State of West Virginia.  \n",
       " 461  1885            Capitals of the State of West Virginia.  \n",
       " 462  1788  Capital of the Territory Northwest of the Rive...  \n",
       " 463  1800               Capital of the Territory of Indiana.  \n",
       " 464  1809              Capital of the Territory of Illinois.  \n",
       " 465  1818              Capital of the Territory of Michigan.  \n",
       " 466  1836            Capitals of the Territory of Wisconsin.  \n",
       " 467  1837            Capitals of the Territory of Wisconsin.  \n",
       " 468  1838            Capitals of the Territory of Wisconsin.  \n",
       " 469  1848                 Capital of the State of Wisconsin.  \n",
       " 470  1863                 Capital of the Territory of Idaho.  \n",
       " 471  1864                Capital of the Territory of Dakota.  \n",
       " 472  1869               Capital of the Territory of Wyoming.  \n",
       " 473  1890                   Capital of the State of Wyoming.  \n",
       " \n",
       " [474 rows x 4 columns],\n",
       "                             Links to related articles  \\\n",
       " 0   vteCapitals of the United States by jurisdicti...   \n",
       " 1    vteCapitals of the United States by jurisdiction   \n",
       " 2   Nation: US Washington States: AL Montgomery AK...   \n",
       " 3                vteUnited States state-related lists   \n",
       " 4   List of states and territories of the United S...   \n",
       " 5                                        Demographics   \n",
       " 6                                             Economy   \n",
       " 7                                         Environment   \n",
       " 8                                           Geography   \n",
       " 9                                          Government   \n",
       " 10                                             Health   \n",
       " 11                                            History   \n",
       " 12                                                Law   \n",
       " 13                                      Miscellaneous   \n",
       " 14                         Category  Commons  Portals   \n",
       " 15  vteLocation of the capital of the United State...   \n",
       " 16                    1774 First Continental Congress   \n",
       " 17                1775–81 Second Continental Congress   \n",
       " 18              1781–89 Congress of the Confederation   \n",
       " 19  1789–present Federal government of the United ...   \n",
       " \n",
       "                           Links to related articles.1  \n",
       " 0   vteCapitals of the United States by jurisdicti...  \n",
       " 1    vteCapitals of the United States by jurisdiction  \n",
       " 2   Nation: US Washington States: AL Montgomery AK...  \n",
       " 3                vteUnited States state-related lists  \n",
       " 4   List of states and territories of the United S...  \n",
       " 5   Educational attainment Irreligion Largest citi...  \n",
       " 6   Billionaires Budgets Companies Federal tax rev...  \n",
       " 7   Carbon dioxide emissions Botanical gardens Par...  \n",
       " 8   Area Bays Beaches Coastline Elevation Extreme ...  \n",
       " 9   Agriculture commissioners Attorneys general Ca...  \n",
       " 10  Fertility rates Hospitals Human Development In...  \n",
       " 11  Date of statehood Name etymologies Historical ...  \n",
       " 12  Abortion Age of consent Alcohol Dry communitie...  \n",
       " 13  Abbreviations Casinos Demonyms Fictional state...  \n",
       " 14                         Category  Commons  Portals  \n",
       " 15  vteLocation of the capital of the United State...  \n",
       " 16                                       Philadelphia  \n",
       " 17  Philadelphia → Baltimore → Lancaster → York → ...  \n",
       " 18  Philadelphia → Princeton → Annapolis → Trenton...  \n",
       " 19    New York City → Philadelphia → Washington, D.C.  ,\n",
       "     vteCapitals of the United States by jurisdiction  \\\n",
       " 0  Nation: US Washington States: AL Montgomery AK...   \n",
       " \n",
       "   vteCapitals of the United States by jurisdiction.1  \n",
       " 0  Nation: US Washington States: AL Montgomery AK...  ,\n",
       "                  vteUnited States state-related lists  \\\n",
       " 0   List of states and territories of the United S...   \n",
       " 1                                        Demographics   \n",
       " 2                                             Economy   \n",
       " 3                                         Environment   \n",
       " 4                                           Geography   \n",
       " 5                                          Government   \n",
       " 6                                              Health   \n",
       " 7                                             History   \n",
       " 8                                                 Law   \n",
       " 9                                       Miscellaneous   \n",
       " 10                         Category  Commons  Portals   \n",
       " \n",
       "                vteUnited States state-related lists.1  \n",
       " 0   List of states and territories of the United S...  \n",
       " 1   Educational attainment Irreligion Largest citi...  \n",
       " 2   Billionaires Budgets Companies Federal tax rev...  \n",
       " 3   Carbon dioxide emissions Botanical gardens Par...  \n",
       " 4   Area Bays Beaches Coastline Elevation Extreme ...  \n",
       " 5   Agriculture commissioners Attorneys general Ca...  \n",
       " 6   Fertility rates Hospitals Human Development In...  \n",
       " 7   Date of statehood Name etymologies Historical ...  \n",
       " 8   Abortion Age of consent Alcohol Dry communitie...  \n",
       " 9   Abbreviations Casinos Demonyms Fictional state...  \n",
       " 10                         Category  Commons  Portals  ,\n",
       "   vteLocation of the capital of the United States and predecessors  \\\n",
       " 0                    1774 First Continental Congress                 \n",
       " 1                1775–81 Second Continental Congress                 \n",
       " 2              1781–89 Congress of the Confederation                 \n",
       " 3  1789–present Federal government of the United ...                 \n",
       " \n",
       "   vteLocation of the capital of the United States and predecessors.1  \n",
       " 0                                       Philadelphia                  \n",
       " 1  Philadelphia → Baltimore → Lancaster → York → ...                  \n",
       " 2  Philadelphia → Princeton → Annapolis → Trenton...                  \n",
       " 3    New York City → Philadelphia → Washington, D.C.                  ]"
      ]
     },
     "execution_count": 3,
     "metadata": {},
     "output_type": "execute_result"
    }
   ],
   "source": [
    "tables = pd.read_html(url)\n",
    "tables"
   ]
  },
  {
   "cell_type": "markdown",
   "metadata": {
    "slideshow": {
     "slide_type": "subslide"
    }
   },
   "source": [
    "What we get in return is a list of dataframes for any tabular data that Pandas found."
   ]
  },
  {
   "cell_type": "code",
   "execution_count": 4,
   "metadata": {
    "slideshow": {
     "slide_type": "fragment"
    }
   },
   "outputs": [
    {
     "data": {
      "text/plain": [
       "list"
      ]
     },
     "execution_count": 4,
     "metadata": {},
     "output_type": "execute_result"
    }
   ],
   "source": [
    "type(tables)"
   ]
  },
  {
   "cell_type": "markdown",
   "metadata": {
    "slideshow": {
     "slide_type": "subslide"
    }
   },
   "source": [
    "We can slice off any of those dataframes that we want using normal indexing."
   ]
  },
  {
   "cell_type": "code",
   "execution_count": 5,
   "metadata": {
    "slideshow": {
     "slide_type": "fragment"
    }
   },
   "outputs": [
    {
     "data": {
      "text/html": [
       "<div>\n",
       "<style scoped>\n",
       "    .dataframe tbody tr th:only-of-type {\n",
       "        vertical-align: middle;\n",
       "    }\n",
       "\n",
       "    .dataframe tbody tr th {\n",
       "        vertical-align: top;\n",
       "    }\n",
       "\n",
       "    .dataframe thead th {\n",
       "        text-align: right;\n",
       "    }\n",
       "</style>\n",
       "<table border=\"1\" class=\"dataframe\">\n",
       "  <thead>\n",
       "    <tr style=\"text-align: right;\">\n",
       "      <th></th>\n",
       "      <th>State</th>\n",
       "      <th>Abr.</th>\n",
       "      <th>State-hood Rank</th>\n",
       "      <th>Capital</th>\n",
       "      <th>Capital Since</th>\n",
       "      <th>Area (sq-mi)</th>\n",
       "      <th>Municipal Population</th>\n",
       "      <th>Metropolitan</th>\n",
       "      <th>Metropolitan Population</th>\n",
       "      <th>Population Rank</th>\n",
       "      <th>Notes</th>\n",
       "    </tr>\n",
       "  </thead>\n",
       "  <tbody>\n",
       "    <tr>\n",
       "      <th>0</th>\n",
       "      <td>Alabama</td>\n",
       "      <td>AL</td>\n",
       "      <td>1819</td>\n",
       "      <td>Montgomery</td>\n",
       "      <td>1846</td>\n",
       "      <td>155.4</td>\n",
       "      <td>205764</td>\n",
       "      <td>374536.0</td>\n",
       "      <td>2</td>\n",
       "      <td>102.0</td>\n",
       "      <td>Birmingham is the state's largest city.</td>\n",
       "    </tr>\n",
       "    <tr>\n",
       "      <th>1</th>\n",
       "      <td>Alaska</td>\n",
       "      <td>AK</td>\n",
       "      <td>1959</td>\n",
       "      <td>Juneau</td>\n",
       "      <td>1906</td>\n",
       "      <td>2716.7</td>\n",
       "      <td>31275</td>\n",
       "      <td>NaN</td>\n",
       "      <td>3</td>\n",
       "      <td>NaN</td>\n",
       "      <td>Largest capital by municipal land area.</td>\n",
       "    </tr>\n",
       "    <tr>\n",
       "      <th>2</th>\n",
       "      <td>Arizona</td>\n",
       "      <td>AZ</td>\n",
       "      <td>1912</td>\n",
       "      <td>Phoenix</td>\n",
       "      <td>1889</td>\n",
       "      <td>474.9</td>\n",
       "      <td>1445632</td>\n",
       "      <td>4192887.0</td>\n",
       "      <td>1</td>\n",
       "      <td>6.0</td>\n",
       "      <td>Phoenix is the most populous capital city in t...</td>\n",
       "    </tr>\n",
       "    <tr>\n",
       "      <th>3</th>\n",
       "      <td>Arkansas</td>\n",
       "      <td>AR</td>\n",
       "      <td>1836</td>\n",
       "      <td>Little Rock</td>\n",
       "      <td>1821</td>\n",
       "      <td>116.2</td>\n",
       "      <td>193524</td>\n",
       "      <td>699757.0</td>\n",
       "      <td>1</td>\n",
       "      <td>117.0</td>\n",
       "      <td>NaN</td>\n",
       "    </tr>\n",
       "    <tr>\n",
       "      <th>4</th>\n",
       "      <td>California</td>\n",
       "      <td>CA</td>\n",
       "      <td>1850</td>\n",
       "      <td>Sacramento</td>\n",
       "      <td>1854</td>\n",
       "      <td>97.2</td>\n",
       "      <td>466488</td>\n",
       "      <td>2149127.0</td>\n",
       "      <td>6</td>\n",
       "      <td>35.0</td>\n",
       "      <td>NaN</td>\n",
       "    </tr>\n",
       "  </tbody>\n",
       "</table>\n",
       "</div>"
      ],
      "text/plain": [
       "        State Abr.  State-hood Rank      Capital  Capital Since  Area (sq-mi)  \\\n",
       "0     Alabama   AL             1819   Montgomery           1846         155.4   \n",
       "1      Alaska   AK             1959       Juneau           1906        2716.7   \n",
       "2     Arizona   AZ             1912      Phoenix           1889         474.9   \n",
       "3    Arkansas   AR             1836  Little Rock           1821         116.2   \n",
       "4  California   CA             1850   Sacramento           1854          97.2   \n",
       "\n",
       "   Municipal Population  Metropolitan  Metropolitan Population  \\\n",
       "0                205764      374536.0                        2   \n",
       "1                 31275           NaN                        3   \n",
       "2               1445632     4192887.0                        1   \n",
       "3                193524      699757.0                        1   \n",
       "4                466488     2149127.0                        6   \n",
       "\n",
       "   Population Rank                                              Notes  \n",
       "0            102.0            Birmingham is the state's largest city.  \n",
       "1              NaN            Largest capital by municipal land area.  \n",
       "2              6.0  Phoenix is the most populous capital city in t...  \n",
       "3            117.0                                                NaN  \n",
       "4             35.0                                                NaN  "
      ]
     },
     "execution_count": 5,
     "metadata": {},
     "output_type": "execute_result"
    }
   ],
   "source": [
    "df = tables[0]\n",
    "df.columns = ['State', 'Abr.', 'State-hood Rank', 'Capital', \n",
    "              'Capital Since', 'Area (sq-mi)', 'Municipal Population', 'Metropolitan', \n",
    "              'Metropolitan Population', 'Population Rank', 'Notes']\n",
    "df.head()"
   ]
  },
  {
   "cell_type": "markdown",
   "metadata": {
    "slideshow": {
     "slide_type": "subslide"
    }
   },
   "source": [
    "Cleanup of extra rows"
   ]
  },
  {
   "cell_type": "code",
   "execution_count": 6,
   "metadata": {
    "slideshow": {
     "slide_type": "fragment"
    }
   },
   "outputs": [
    {
     "data": {
      "text/html": [
       "<div>\n",
       "<style scoped>\n",
       "    .dataframe tbody tr th:only-of-type {\n",
       "        vertical-align: middle;\n",
       "    }\n",
       "\n",
       "    .dataframe tbody tr th {\n",
       "        vertical-align: top;\n",
       "    }\n",
       "\n",
       "    .dataframe thead th {\n",
       "        text-align: right;\n",
       "    }\n",
       "</style>\n",
       "<table border=\"1\" class=\"dataframe\">\n",
       "  <thead>\n",
       "    <tr style=\"text-align: right;\">\n",
       "      <th></th>\n",
       "      <th>State</th>\n",
       "      <th>Abr.</th>\n",
       "      <th>State-hood Rank</th>\n",
       "      <th>Capital</th>\n",
       "      <th>Capital Since</th>\n",
       "      <th>Area (sq-mi)</th>\n",
       "      <th>Municipal Population</th>\n",
       "      <th>Metropolitan</th>\n",
       "      <th>Metropolitan Population</th>\n",
       "      <th>Population Rank</th>\n",
       "      <th>Notes</th>\n",
       "    </tr>\n",
       "  </thead>\n",
       "  <tbody>\n",
       "    <tr>\n",
       "      <th>2</th>\n",
       "      <td>Arizona</td>\n",
       "      <td>AZ</td>\n",
       "      <td>1912</td>\n",
       "      <td>Phoenix</td>\n",
       "      <td>1889</td>\n",
       "      <td>474.9</td>\n",
       "      <td>1445632</td>\n",
       "      <td>4192887.0</td>\n",
       "      <td>1</td>\n",
       "      <td>6.0</td>\n",
       "      <td>Phoenix is the most populous capital city in t...</td>\n",
       "    </tr>\n",
       "    <tr>\n",
       "      <th>3</th>\n",
       "      <td>Arkansas</td>\n",
       "      <td>AR</td>\n",
       "      <td>1836</td>\n",
       "      <td>Little Rock</td>\n",
       "      <td>1821</td>\n",
       "      <td>116.2</td>\n",
       "      <td>193524</td>\n",
       "      <td>699757.0</td>\n",
       "      <td>1</td>\n",
       "      <td>117.0</td>\n",
       "      <td>NaN</td>\n",
       "    </tr>\n",
       "    <tr>\n",
       "      <th>4</th>\n",
       "      <td>California</td>\n",
       "      <td>CA</td>\n",
       "      <td>1850</td>\n",
       "      <td>Sacramento</td>\n",
       "      <td>1854</td>\n",
       "      <td>97.2</td>\n",
       "      <td>466488</td>\n",
       "      <td>2149127.0</td>\n",
       "      <td>6</td>\n",
       "      <td>35.0</td>\n",
       "      <td>NaN</td>\n",
       "    </tr>\n",
       "    <tr>\n",
       "      <th>5</th>\n",
       "      <td>Colorado</td>\n",
       "      <td>CO</td>\n",
       "      <td>1876</td>\n",
       "      <td>Denver</td>\n",
       "      <td>1867</td>\n",
       "      <td>153.4</td>\n",
       "      <td>600158</td>\n",
       "      <td>2543482.0</td>\n",
       "      <td>1</td>\n",
       "      <td>26.0</td>\n",
       "      <td>Denver was called Denver City until 1882.</td>\n",
       "    </tr>\n",
       "    <tr>\n",
       "      <th>6</th>\n",
       "      <td>Connecticut</td>\n",
       "      <td>CT</td>\n",
       "      <td>1788</td>\n",
       "      <td>Hartford</td>\n",
       "      <td>1875</td>\n",
       "      <td>17.3</td>\n",
       "      <td>124775</td>\n",
       "      <td>1212381.0</td>\n",
       "      <td>3</td>\n",
       "      <td>199.0</td>\n",
       "      <td>NaN</td>\n",
       "    </tr>\n",
       "  </tbody>\n",
       "</table>\n",
       "</div>"
      ],
      "text/plain": [
       "         State Abr.  State-hood Rank      Capital  Capital Since  \\\n",
       "2      Arizona   AZ             1912      Phoenix           1889   \n",
       "3     Arkansas   AR             1836  Little Rock           1821   \n",
       "4   California   CA             1850   Sacramento           1854   \n",
       "5     Colorado   CO             1876       Denver           1867   \n",
       "6  Connecticut   CT             1788     Hartford           1875   \n",
       "\n",
       "   Area (sq-mi)  Municipal Population  Metropolitan  Metropolitan Population  \\\n",
       "2         474.9               1445632     4192887.0                        1   \n",
       "3         116.2                193524      699757.0                        1   \n",
       "4          97.2                466488     2149127.0                        6   \n",
       "5         153.4                600158     2543482.0                        1   \n",
       "6          17.3                124775     1212381.0                        3   \n",
       "\n",
       "   Population Rank                                              Notes  \n",
       "2              6.0  Phoenix is the most populous capital city in t...  \n",
       "3            117.0                                                NaN  \n",
       "4             35.0                                                NaN  \n",
       "5             26.0          Denver was called Denver City until 1882.  \n",
       "6            199.0                                                NaN  "
      ]
     },
     "execution_count": 6,
     "metadata": {},
     "output_type": "execute_result"
    }
   ],
   "source": [
    "df = df.iloc[2:]\n",
    "df.head()"
   ]
  },
  {
   "cell_type": "markdown",
   "metadata": {
    "slideshow": {
     "slide_type": "subslide"
    }
   },
   "source": [
    "Set the index to the `State` column"
   ]
  },
  {
   "cell_type": "code",
   "execution_count": 7,
   "metadata": {
    "slideshow": {
     "slide_type": "fragment"
    }
   },
   "outputs": [
    {
     "data": {
      "text/html": [
       "<div>\n",
       "<style scoped>\n",
       "    .dataframe tbody tr th:only-of-type {\n",
       "        vertical-align: middle;\n",
       "    }\n",
       "\n",
       "    .dataframe tbody tr th {\n",
       "        vertical-align: top;\n",
       "    }\n",
       "\n",
       "    .dataframe thead th {\n",
       "        text-align: right;\n",
       "    }\n",
       "</style>\n",
       "<table border=\"1\" class=\"dataframe\">\n",
       "  <thead>\n",
       "    <tr style=\"text-align: right;\">\n",
       "      <th></th>\n",
       "      <th>Abr.</th>\n",
       "      <th>State-hood Rank</th>\n",
       "      <th>Capital</th>\n",
       "      <th>Capital Since</th>\n",
       "      <th>Area (sq-mi)</th>\n",
       "      <th>Municipal Population</th>\n",
       "      <th>Metropolitan</th>\n",
       "      <th>Metropolitan Population</th>\n",
       "      <th>Population Rank</th>\n",
       "      <th>Notes</th>\n",
       "    </tr>\n",
       "    <tr>\n",
       "      <th>State</th>\n",
       "      <th></th>\n",
       "      <th></th>\n",
       "      <th></th>\n",
       "      <th></th>\n",
       "      <th></th>\n",
       "      <th></th>\n",
       "      <th></th>\n",
       "      <th></th>\n",
       "      <th></th>\n",
       "      <th></th>\n",
       "    </tr>\n",
       "  </thead>\n",
       "  <tbody>\n",
       "    <tr>\n",
       "      <th>Arizona</th>\n",
       "      <td>AZ</td>\n",
       "      <td>1912</td>\n",
       "      <td>Phoenix</td>\n",
       "      <td>1889</td>\n",
       "      <td>474.9</td>\n",
       "      <td>1445632</td>\n",
       "      <td>4192887.0</td>\n",
       "      <td>1</td>\n",
       "      <td>6.0</td>\n",
       "      <td>Phoenix is the most populous capital city in t...</td>\n",
       "    </tr>\n",
       "    <tr>\n",
       "      <th>Arkansas</th>\n",
       "      <td>AR</td>\n",
       "      <td>1836</td>\n",
       "      <td>Little Rock</td>\n",
       "      <td>1821</td>\n",
       "      <td>116.2</td>\n",
       "      <td>193524</td>\n",
       "      <td>699757.0</td>\n",
       "      <td>1</td>\n",
       "      <td>117.0</td>\n",
       "      <td>NaN</td>\n",
       "    </tr>\n",
       "    <tr>\n",
       "      <th>California</th>\n",
       "      <td>CA</td>\n",
       "      <td>1850</td>\n",
       "      <td>Sacramento</td>\n",
       "      <td>1854</td>\n",
       "      <td>97.2</td>\n",
       "      <td>466488</td>\n",
       "      <td>2149127.0</td>\n",
       "      <td>6</td>\n",
       "      <td>35.0</td>\n",
       "      <td>NaN</td>\n",
       "    </tr>\n",
       "    <tr>\n",
       "      <th>Colorado</th>\n",
       "      <td>CO</td>\n",
       "      <td>1876</td>\n",
       "      <td>Denver</td>\n",
       "      <td>1867</td>\n",
       "      <td>153.4</td>\n",
       "      <td>600158</td>\n",
       "      <td>2543482.0</td>\n",
       "      <td>1</td>\n",
       "      <td>26.0</td>\n",
       "      <td>Denver was called Denver City until 1882.</td>\n",
       "    </tr>\n",
       "    <tr>\n",
       "      <th>Connecticut</th>\n",
       "      <td>CT</td>\n",
       "      <td>1788</td>\n",
       "      <td>Hartford</td>\n",
       "      <td>1875</td>\n",
       "      <td>17.3</td>\n",
       "      <td>124775</td>\n",
       "      <td>1212381.0</td>\n",
       "      <td>3</td>\n",
       "      <td>199.0</td>\n",
       "      <td>NaN</td>\n",
       "    </tr>\n",
       "  </tbody>\n",
       "</table>\n",
       "</div>"
      ],
      "text/plain": [
       "            Abr.  State-hood Rank      Capital  Capital Since  Area (sq-mi)  \\\n",
       "State                                                                         \n",
       "Arizona       AZ             1912      Phoenix           1889         474.9   \n",
       "Arkansas      AR             1836  Little Rock           1821         116.2   \n",
       "California    CA             1850   Sacramento           1854          97.2   \n",
       "Colorado      CO             1876       Denver           1867         153.4   \n",
       "Connecticut   CT             1788     Hartford           1875          17.3   \n",
       "\n",
       "             Municipal Population  Metropolitan  Metropolitan Population  \\\n",
       "State                                                                      \n",
       "Arizona                   1445632     4192887.0                        1   \n",
       "Arkansas                   193524      699757.0                        1   \n",
       "California                 466488     2149127.0                        6   \n",
       "Colorado                   600158     2543482.0                        1   \n",
       "Connecticut                124775     1212381.0                        3   \n",
       "\n",
       "             Population Rank  \\\n",
       "State                          \n",
       "Arizona                  6.0   \n",
       "Arkansas               117.0   \n",
       "California              35.0   \n",
       "Colorado                26.0   \n",
       "Connecticut            199.0   \n",
       "\n",
       "                                                         Notes  \n",
       "State                                                           \n",
       "Arizona      Phoenix is the most populous capital city in t...  \n",
       "Arkansas                                                   NaN  \n",
       "California                                                 NaN  \n",
       "Colorado             Denver was called Denver City until 1882.  \n",
       "Connecticut                                                NaN  "
      ]
     },
     "execution_count": 7,
     "metadata": {},
     "output_type": "execute_result"
    }
   ],
   "source": [
    "df.set_index('State', inplace=True)\n",
    "df.head()"
   ]
  },
  {
   "cell_type": "code",
   "execution_count": 8,
   "metadata": {
    "slideshow": {
     "slide_type": "subslide"
    }
   },
   "outputs": [
    {
     "ename": "KeyError",
     "evalue": "'Alabama'",
     "output_type": "error",
     "traceback": [
      "\u001b[0;31m---------------------------------------------------------------------------\u001b[0m",
      "\u001b[0;31mKeyError\u001b[0m                                  Traceback (most recent call last)",
      "\u001b[0;32m~/anaconda3/envs/PythonData/lib/python3.7/site-packages/pandas/core/indexes/base.py\u001b[0m in \u001b[0;36mget_loc\u001b[0;34m(self, key, method, tolerance)\u001b[0m\n\u001b[1;32m   2601\u001b[0m             \u001b[0;32mtry\u001b[0m\u001b[0;34m:\u001b[0m\u001b[0;34m\u001b[0m\u001b[0;34m\u001b[0m\u001b[0m\n\u001b[0;32m-> 2602\u001b[0;31m                 \u001b[0;32mreturn\u001b[0m \u001b[0mself\u001b[0m\u001b[0;34m.\u001b[0m\u001b[0m_engine\u001b[0m\u001b[0;34m.\u001b[0m\u001b[0mget_loc\u001b[0m\u001b[0;34m(\u001b[0m\u001b[0mkey\u001b[0m\u001b[0;34m)\u001b[0m\u001b[0;34m\u001b[0m\u001b[0;34m\u001b[0m\u001b[0m\n\u001b[0m\u001b[1;32m   2603\u001b[0m             \u001b[0;32mexcept\u001b[0m \u001b[0mKeyError\u001b[0m\u001b[0;34m:\u001b[0m\u001b[0;34m\u001b[0m\u001b[0;34m\u001b[0m\u001b[0m\n",
      "\u001b[0;32mpandas/_libs/index.pyx\u001b[0m in \u001b[0;36mpandas._libs.index.IndexEngine.get_loc\u001b[0;34m()\u001b[0m\n",
      "\u001b[0;32mpandas/_libs/index.pyx\u001b[0m in \u001b[0;36mpandas._libs.index.IndexEngine.get_loc\u001b[0;34m()\u001b[0m\n",
      "\u001b[0;32mpandas/_libs/hashtable_class_helper.pxi\u001b[0m in \u001b[0;36mpandas._libs.hashtable.PyObjectHashTable.get_item\u001b[0;34m()\u001b[0m\n",
      "\u001b[0;32mpandas/_libs/hashtable_class_helper.pxi\u001b[0m in \u001b[0;36mpandas._libs.hashtable.PyObjectHashTable.get_item\u001b[0;34m()\u001b[0m\n",
      "\u001b[0;31mKeyError\u001b[0m: 'Alabama'",
      "\nDuring handling of the above exception, another exception occurred:\n",
      "\u001b[0;31mKeyError\u001b[0m                                  Traceback (most recent call last)",
      "\u001b[0;32m<ipython-input-8-691367fed49c>\u001b[0m in \u001b[0;36m<module>\u001b[0;34m\u001b[0m\n\u001b[0;32m----> 1\u001b[0;31m \u001b[0mdf\u001b[0m\u001b[0;34m.\u001b[0m\u001b[0mloc\u001b[0m\u001b[0;34m[\u001b[0m\u001b[0;34m'Alabama'\u001b[0m\u001b[0;34m]\u001b[0m\u001b[0;34m\u001b[0m\u001b[0;34m\u001b[0m\u001b[0m\n\u001b[0m",
      "\u001b[0;32m~/anaconda3/envs/PythonData/lib/python3.7/site-packages/pandas/core/indexing.py\u001b[0m in \u001b[0;36m__getitem__\u001b[0;34m(self, key)\u001b[0m\n\u001b[1;32m   1498\u001b[0m \u001b[0;34m\u001b[0m\u001b[0m\n\u001b[1;32m   1499\u001b[0m             \u001b[0mmaybe_callable\u001b[0m \u001b[0;34m=\u001b[0m \u001b[0mcom\u001b[0m\u001b[0;34m.\u001b[0m\u001b[0mapply_if_callable\u001b[0m\u001b[0;34m(\u001b[0m\u001b[0mkey\u001b[0m\u001b[0;34m,\u001b[0m \u001b[0mself\u001b[0m\u001b[0;34m.\u001b[0m\u001b[0mobj\u001b[0m\u001b[0;34m)\u001b[0m\u001b[0;34m\u001b[0m\u001b[0;34m\u001b[0m\u001b[0m\n\u001b[0;32m-> 1500\u001b[0;31m             \u001b[0;32mreturn\u001b[0m \u001b[0mself\u001b[0m\u001b[0;34m.\u001b[0m\u001b[0m_getitem_axis\u001b[0m\u001b[0;34m(\u001b[0m\u001b[0mmaybe_callable\u001b[0m\u001b[0;34m,\u001b[0m \u001b[0maxis\u001b[0m\u001b[0;34m=\u001b[0m\u001b[0maxis\u001b[0m\u001b[0;34m)\u001b[0m\u001b[0;34m\u001b[0m\u001b[0;34m\u001b[0m\u001b[0m\n\u001b[0m\u001b[1;32m   1501\u001b[0m \u001b[0;34m\u001b[0m\u001b[0m\n\u001b[1;32m   1502\u001b[0m     \u001b[0;32mdef\u001b[0m \u001b[0m_is_scalar_access\u001b[0m\u001b[0;34m(\u001b[0m\u001b[0mself\u001b[0m\u001b[0;34m,\u001b[0m \u001b[0mkey\u001b[0m\u001b[0;34m)\u001b[0m\u001b[0;34m:\u001b[0m\u001b[0;34m\u001b[0m\u001b[0;34m\u001b[0m\u001b[0m\n",
      "\u001b[0;32m~/anaconda3/envs/PythonData/lib/python3.7/site-packages/pandas/core/indexing.py\u001b[0m in \u001b[0;36m_getitem_axis\u001b[0;34m(self, key, axis)\u001b[0m\n\u001b[1;32m   1911\u001b[0m         \u001b[0;31m# fall thru to straight lookup\u001b[0m\u001b[0;34m\u001b[0m\u001b[0;34m\u001b[0m\u001b[0;34m\u001b[0m\u001b[0m\n\u001b[1;32m   1912\u001b[0m         \u001b[0mself\u001b[0m\u001b[0;34m.\u001b[0m\u001b[0m_validate_key\u001b[0m\u001b[0;34m(\u001b[0m\u001b[0mkey\u001b[0m\u001b[0;34m,\u001b[0m \u001b[0maxis\u001b[0m\u001b[0;34m)\u001b[0m\u001b[0;34m\u001b[0m\u001b[0;34m\u001b[0m\u001b[0m\n\u001b[0;32m-> 1913\u001b[0;31m         \u001b[0;32mreturn\u001b[0m \u001b[0mself\u001b[0m\u001b[0;34m.\u001b[0m\u001b[0m_get_label\u001b[0m\u001b[0;34m(\u001b[0m\u001b[0mkey\u001b[0m\u001b[0;34m,\u001b[0m \u001b[0maxis\u001b[0m\u001b[0;34m=\u001b[0m\u001b[0maxis\u001b[0m\u001b[0;34m)\u001b[0m\u001b[0;34m\u001b[0m\u001b[0;34m\u001b[0m\u001b[0m\n\u001b[0m\u001b[1;32m   1914\u001b[0m \u001b[0;34m\u001b[0m\u001b[0m\n\u001b[1;32m   1915\u001b[0m \u001b[0;34m\u001b[0m\u001b[0m\n",
      "\u001b[0;32m~/anaconda3/envs/PythonData/lib/python3.7/site-packages/pandas/core/indexing.py\u001b[0m in \u001b[0;36m_get_label\u001b[0;34m(self, label, axis)\u001b[0m\n\u001b[1;32m    139\u001b[0m             \u001b[0;32mraise\u001b[0m \u001b[0mIndexingError\u001b[0m\u001b[0;34m(\u001b[0m\u001b[0;34m'no slices here, handle elsewhere'\u001b[0m\u001b[0;34m)\u001b[0m\u001b[0;34m\u001b[0m\u001b[0;34m\u001b[0m\u001b[0m\n\u001b[1;32m    140\u001b[0m \u001b[0;34m\u001b[0m\u001b[0m\n\u001b[0;32m--> 141\u001b[0;31m         \u001b[0;32mreturn\u001b[0m \u001b[0mself\u001b[0m\u001b[0;34m.\u001b[0m\u001b[0mobj\u001b[0m\u001b[0;34m.\u001b[0m\u001b[0m_xs\u001b[0m\u001b[0;34m(\u001b[0m\u001b[0mlabel\u001b[0m\u001b[0;34m,\u001b[0m \u001b[0maxis\u001b[0m\u001b[0;34m=\u001b[0m\u001b[0maxis\u001b[0m\u001b[0;34m)\u001b[0m\u001b[0;34m\u001b[0m\u001b[0;34m\u001b[0m\u001b[0m\n\u001b[0m\u001b[1;32m    142\u001b[0m \u001b[0;34m\u001b[0m\u001b[0m\n\u001b[1;32m    143\u001b[0m     \u001b[0;32mdef\u001b[0m \u001b[0m_get_loc\u001b[0m\u001b[0;34m(\u001b[0m\u001b[0mself\u001b[0m\u001b[0;34m,\u001b[0m \u001b[0mkey\u001b[0m\u001b[0;34m,\u001b[0m \u001b[0maxis\u001b[0m\u001b[0;34m=\u001b[0m\u001b[0;32mNone\u001b[0m\u001b[0;34m)\u001b[0m\u001b[0;34m:\u001b[0m\u001b[0;34m\u001b[0m\u001b[0;34m\u001b[0m\u001b[0m\n",
      "\u001b[0;32m~/anaconda3/envs/PythonData/lib/python3.7/site-packages/pandas/core/generic.py\u001b[0m in \u001b[0;36mxs\u001b[0;34m(self, key, axis, level, drop_level)\u001b[0m\n\u001b[1;32m   3573\u001b[0m                                                       drop_level=drop_level)\n\u001b[1;32m   3574\u001b[0m         \u001b[0;32melse\u001b[0m\u001b[0;34m:\u001b[0m\u001b[0;34m\u001b[0m\u001b[0;34m\u001b[0m\u001b[0m\n\u001b[0;32m-> 3575\u001b[0;31m             \u001b[0mloc\u001b[0m \u001b[0;34m=\u001b[0m \u001b[0mself\u001b[0m\u001b[0;34m.\u001b[0m\u001b[0mindex\u001b[0m\u001b[0;34m.\u001b[0m\u001b[0mget_loc\u001b[0m\u001b[0;34m(\u001b[0m\u001b[0mkey\u001b[0m\u001b[0;34m)\u001b[0m\u001b[0;34m\u001b[0m\u001b[0;34m\u001b[0m\u001b[0m\n\u001b[0m\u001b[1;32m   3576\u001b[0m \u001b[0;34m\u001b[0m\u001b[0m\n\u001b[1;32m   3577\u001b[0m             \u001b[0;32mif\u001b[0m \u001b[0misinstance\u001b[0m\u001b[0;34m(\u001b[0m\u001b[0mloc\u001b[0m\u001b[0;34m,\u001b[0m \u001b[0mnp\u001b[0m\u001b[0;34m.\u001b[0m\u001b[0mndarray\u001b[0m\u001b[0;34m)\u001b[0m\u001b[0;34m:\u001b[0m\u001b[0;34m\u001b[0m\u001b[0;34m\u001b[0m\u001b[0m\n",
      "\u001b[0;32m~/anaconda3/envs/PythonData/lib/python3.7/site-packages/pandas/core/indexes/base.py\u001b[0m in \u001b[0;36mget_loc\u001b[0;34m(self, key, method, tolerance)\u001b[0m\n\u001b[1;32m   2602\u001b[0m                 \u001b[0;32mreturn\u001b[0m \u001b[0mself\u001b[0m\u001b[0;34m.\u001b[0m\u001b[0m_engine\u001b[0m\u001b[0;34m.\u001b[0m\u001b[0mget_loc\u001b[0m\u001b[0;34m(\u001b[0m\u001b[0mkey\u001b[0m\u001b[0;34m)\u001b[0m\u001b[0;34m\u001b[0m\u001b[0;34m\u001b[0m\u001b[0m\n\u001b[1;32m   2603\u001b[0m             \u001b[0;32mexcept\u001b[0m \u001b[0mKeyError\u001b[0m\u001b[0;34m:\u001b[0m\u001b[0;34m\u001b[0m\u001b[0;34m\u001b[0m\u001b[0m\n\u001b[0;32m-> 2604\u001b[0;31m                 \u001b[0;32mreturn\u001b[0m \u001b[0mself\u001b[0m\u001b[0;34m.\u001b[0m\u001b[0m_engine\u001b[0m\u001b[0;34m.\u001b[0m\u001b[0mget_loc\u001b[0m\u001b[0;34m(\u001b[0m\u001b[0mself\u001b[0m\u001b[0;34m.\u001b[0m\u001b[0m_maybe_cast_indexer\u001b[0m\u001b[0;34m(\u001b[0m\u001b[0mkey\u001b[0m\u001b[0;34m)\u001b[0m\u001b[0;34m)\u001b[0m\u001b[0;34m\u001b[0m\u001b[0;34m\u001b[0m\u001b[0m\n\u001b[0m\u001b[1;32m   2605\u001b[0m         \u001b[0mindexer\u001b[0m \u001b[0;34m=\u001b[0m \u001b[0mself\u001b[0m\u001b[0;34m.\u001b[0m\u001b[0mget_indexer\u001b[0m\u001b[0;34m(\u001b[0m\u001b[0;34m[\u001b[0m\u001b[0mkey\u001b[0m\u001b[0;34m]\u001b[0m\u001b[0;34m,\u001b[0m \u001b[0mmethod\u001b[0m\u001b[0;34m=\u001b[0m\u001b[0mmethod\u001b[0m\u001b[0;34m,\u001b[0m \u001b[0mtolerance\u001b[0m\u001b[0;34m=\u001b[0m\u001b[0mtolerance\u001b[0m\u001b[0;34m)\u001b[0m\u001b[0;34m\u001b[0m\u001b[0;34m\u001b[0m\u001b[0m\n\u001b[1;32m   2606\u001b[0m         \u001b[0;32mif\u001b[0m \u001b[0mindexer\u001b[0m\u001b[0;34m.\u001b[0m\u001b[0mndim\u001b[0m \u001b[0;34m>\u001b[0m \u001b[0;36m1\u001b[0m \u001b[0;32mor\u001b[0m \u001b[0mindexer\u001b[0m\u001b[0;34m.\u001b[0m\u001b[0msize\u001b[0m \u001b[0;34m>\u001b[0m \u001b[0;36m1\u001b[0m\u001b[0;34m:\u001b[0m\u001b[0;34m\u001b[0m\u001b[0;34m\u001b[0m\u001b[0m\n",
      "\u001b[0;32mpandas/_libs/index.pyx\u001b[0m in \u001b[0;36mpandas._libs.index.IndexEngine.get_loc\u001b[0;34m()\u001b[0m\n",
      "\u001b[0;32mpandas/_libs/index.pyx\u001b[0m in \u001b[0;36mpandas._libs.index.IndexEngine.get_loc\u001b[0;34m()\u001b[0m\n",
      "\u001b[0;32mpandas/_libs/hashtable_class_helper.pxi\u001b[0m in \u001b[0;36mpandas._libs.hashtable.PyObjectHashTable.get_item\u001b[0;34m()\u001b[0m\n",
      "\u001b[0;32mpandas/_libs/hashtable_class_helper.pxi\u001b[0m in \u001b[0;36mpandas._libs.hashtable.PyObjectHashTable.get_item\u001b[0;34m()\u001b[0m\n",
      "\u001b[0;31mKeyError\u001b[0m: 'Alabama'"
     ]
    }
   ],
   "source": [
    "df.loc['Alabama']"
   ]
  },
  {
   "cell_type": "markdown",
   "metadata": {
    "slideshow": {
     "slide_type": "slide"
    }
   },
   "source": [
    "## DataFrames as HTML"
   ]
  },
  {
   "cell_type": "markdown",
   "metadata": {
    "slideshow": {
     "slide_type": "subslide"
    }
   },
   "source": [
    "Pandas also had a `to_html` method that we can use to generate HTML tables from DataFrames."
   ]
  },
  {
   "cell_type": "code",
   "execution_count": 9,
   "metadata": {
    "slideshow": {
     "slide_type": "fragment"
    }
   },
   "outputs": [
    {
     "data": {
      "text/plain": [
       "'<table border=\"1\" class=\"dataframe\">\\n  <thead>\\n    <tr style=\"text-align: right;\">\\n      <th></th>\\n      <th>Abr.</th>\\n      <th>State-hood Rank</th>\\n      <th>Capital</th>\\n      <th>Capital Since</th>\\n      <th>Area (sq-mi)</th>\\n      <th>Municipal Population</th>\\n      <th>Metropolitan</th>\\n      <th>Metropolitan Population</th>\\n      <th>Population Rank</th>\\n      <th>Notes</th>\\n    </tr>\\n    <tr>\\n      <th>State</th>\\n      <th></th>\\n      <th></th>\\n      <th></th>\\n      <th></th>\\n      <th></th>\\n      <th></th>\\n      <th></th>\\n      <th></th>\\n      <th></th>\\n      <th></th>\\n    </tr>\\n  </thead>\\n  <tbody>\\n    <tr>\\n      <th>Arizona</th>\\n      <td>AZ</td>\\n      <td>1912</td>\\n      <td>Phoenix</td>\\n      <td>1889</td>\\n      <td>474.90</td>\\n      <td>1445632</td>\\n      <td>4192887.0</td>\\n      <td>1</td>\\n      <td>6.0</td>\\n      <td>Phoenix is the most populous capital city in t...</td>\\n    </tr>\\n    <tr>\\n      <th>Arkansas</th>\\n      <td>AR</td>\\n      <td>1836</td>\\n      <td>Little Rock</td>\\n      <td>1821</td>\\n      <td>116.20</td>\\n      <td>193524</td>\\n      <td>699757.0</td>\\n      <td>1</td>\\n      <td>117.0</td>\\n      <td>NaN</td>\\n    </tr>\\n    <tr>\\n      <th>California</th>\\n      <td>CA</td>\\n      <td>1850</td>\\n      <td>Sacramento</td>\\n      <td>1854</td>\\n      <td>97.20</td>\\n      <td>466488</td>\\n      <td>2149127.0</td>\\n      <td>6</td>\\n      <td>35.0</td>\\n      <td>NaN</td>\\n    </tr>\\n    <tr>\\n      <th>Colorado</th>\\n      <td>CO</td>\\n      <td>1876</td>\\n      <td>Denver</td>\\n      <td>1867</td>\\n      <td>153.40</td>\\n      <td>600158</td>\\n      <td>2543482.0</td>\\n      <td>1</td>\\n      <td>26.0</td>\\n      <td>Denver was called Denver City until 1882.</td>\\n    </tr>\\n    <tr>\\n      <th>Connecticut</th>\\n      <td>CT</td>\\n      <td>1788</td>\\n      <td>Hartford</td>\\n      <td>1875</td>\\n      <td>17.30</td>\\n      <td>124775</td>\\n      <td>1212381.0</td>\\n      <td>3</td>\\n      <td>199.0</td>\\n      <td>NaN</td>\\n    </tr>\\n    <tr>\\n      <th>Delaware</th>\\n      <td>DE</td>\\n      <td>1787</td>\\n      <td>Dover</td>\\n      <td>1777</td>\\n      <td>22.40</td>\\n      <td>36047</td>\\n      <td>162310.0</td>\\n      <td>2</td>\\n      <td>NaN</td>\\n      <td>Longest-serving capital in terms of statehood.</td>\\n    </tr>\\n    <tr>\\n      <th>Florida</th>\\n      <td>FL</td>\\n      <td>1845</td>\\n      <td>Tallahassee</td>\\n      <td>1824</td>\\n      <td>95.70</td>\\n      <td>181376</td>\\n      <td>367413.0</td>\\n      <td>7</td>\\n      <td>125.0</td>\\n      <td>NaN</td>\\n    </tr>\\n    <tr>\\n      <th>Georgia</th>\\n      <td>GA</td>\\n      <td>1788</td>\\n      <td>Atlanta</td>\\n      <td>1868</td>\\n      <td>131.70</td>\\n      <td>420003</td>\\n      <td>5286728.0</td>\\n      <td>1</td>\\n      <td>40.0</td>\\n      <td>Most populous metro area of any state capital.</td>\\n    </tr>\\n    <tr>\\n      <th>Hawaii</th>\\n      <td>HI</td>\\n      <td>1959</td>\\n      <td>Honolulu</td>\\n      <td>1845</td>\\n      <td>85.70</td>\\n      <td>337256</td>\\n      <td>953207.0</td>\\n      <td>1</td>\\n      <td>53.0</td>\\n      <td>NaN</td>\\n    </tr>\\n    <tr>\\n      <th>Idaho</th>\\n      <td>ID</td>\\n      <td>1890</td>\\n      <td>Boise</td>\\n      <td>1865</td>\\n      <td>63.80</td>\\n      <td>205671</td>\\n      <td>616561.0</td>\\n      <td>1</td>\\n      <td>103.0</td>\\n      <td>NaN</td>\\n    </tr>\\n    <tr>\\n      <th>Illinois</th>\\n      <td>IL</td>\\n      <td>1818</td>\\n      <td>Springfield</td>\\n      <td>1837</td>\\n      <td>54.00</td>\\n      <td>116250</td>\\n      <td>210170.0</td>\\n      <td>6</td>\\n      <td>221.0</td>\\n      <td>Springfield was once home to Abraham Lincoln.</td>\\n    </tr>\\n    <tr>\\n      <th>Indiana</th>\\n      <td>IN</td>\\n      <td>1816</td>\\n      <td>Indianapolis</td>\\n      <td>1825</td>\\n      <td>361.50</td>\\n      <td>820445</td>\\n      <td>1887877.0</td>\\n      <td>1</td>\\n      <td>16.0</td>\\n      <td>NaN</td>\\n    </tr>\\n    <tr>\\n      <th>Iowa</th>\\n      <td>IA</td>\\n      <td>1846</td>\\n      <td>Des Moines</td>\\n      <td>1857</td>\\n      <td>75.80</td>\\n      <td>203433</td>\\n      <td>569633.0</td>\\n      <td>1</td>\\n      <td>105.0</td>\\n      <td>NaN</td>\\n    </tr>\\n    <tr>\\n      <th>Kansas</th>\\n      <td>KS</td>\\n      <td>1861</td>\\n      <td>Topeka</td>\\n      <td>1856</td>\\n      <td>56.00</td>\\n      <td>127473</td>\\n      <td>230870.0</td>\\n      <td>4</td>\\n      <td>193.0</td>\\n      <td>NaN</td>\\n    </tr>\\n    <tr>\\n      <th>Kentucky</th>\\n      <td>KY</td>\\n      <td>1792</td>\\n      <td>Frankfort</td>\\n      <td>1792</td>\\n      <td>14.70</td>\\n      <td>25527</td>\\n      <td>70758.0</td>\\n      <td>14</td>\\n      <td>NaN</td>\\n      <td>NaN</td>\\n    </tr>\\n    <tr>\\n      <th>Louisiana</th>\\n      <td>LA</td>\\n      <td>1812</td>\\n      <td>Baton Rouge</td>\\n      <td>1880</td>\\n      <td>76.80</td>\\n      <td>229493</td>\\n      <td>802484.0</td>\\n      <td>2</td>\\n      <td>85.0</td>\\n      <td>Baton Rouge is located in the state\\'s most pop...</td>\\n    </tr>\\n    <tr>\\n      <th>Maine</th>\\n      <td>ME</td>\\n      <td>1820</td>\\n      <td>Augusta</td>\\n      <td>1832</td>\\n      <td>55.40</td>\\n      <td>19136</td>\\n      <td>117114.0</td>\\n      <td>8</td>\\n      <td>NaN</td>\\n      <td>Portland is a previous capital.</td>\\n    </tr>\\n    <tr>\\n      <th>Maryland</th>\\n      <td>MD</td>\\n      <td>1788</td>\\n      <td>Annapolis</td>\\n      <td>1694</td>\\n      <td>6.73</td>\\n      <td>38394</td>\\n      <td>NaN</td>\\n      <td>7</td>\\n      <td>NaN</td>\\n      <td>Smallest capital by land area. Capitol buildin...</td>\\n    </tr>\\n    <tr>\\n      <th>Massachusetts</th>\\n      <td>MA</td>\\n      <td>1788</td>\\n      <td>Boston</td>\\n      <td>1630</td>\\n      <td>48.40</td>\\n      <td>617594</td>\\n      <td>4552402.0</td>\\n      <td>1</td>\\n      <td>22.0</td>\\n      <td>Longest continuously serving capital in the U.S.</td>\\n    </tr>\\n    <tr>\\n      <th>Michigan</th>\\n      <td>MI</td>\\n      <td>1837</td>\\n      <td>Lansing</td>\\n      <td>1847</td>\\n      <td>35.00</td>\\n      <td>114297</td>\\n      <td>464036.0</td>\\n      <td>5</td>\\n      <td>226.0</td>\\n      <td>Only state capital that is not also its county...</td>\\n    </tr>\\n    <tr>\\n      <th>Minnesota</th>\\n      <td>MN</td>\\n      <td>1858</td>\\n      <td>Saint Paul</td>\\n      <td>1849</td>\\n      <td>52.80</td>\\n      <td>285068</td>\\n      <td>3348659.0</td>\\n      <td>2</td>\\n      <td>67.0</td>\\n      <td>NaN</td>\\n    </tr>\\n    <tr>\\n      <th>Mississippi</th>\\n      <td>MS</td>\\n      <td>1817</td>\\n      <td>Jackson</td>\\n      <td>1821</td>\\n      <td>104.90</td>\\n      <td>173514</td>\\n      <td>567122.0</td>\\n      <td>1</td>\\n      <td>134.0</td>\\n      <td>Only state capital that shares its status as c...</td>\\n    </tr>\\n    <tr>\\n      <th>Missouri</th>\\n      <td>MO</td>\\n      <td>1821</td>\\n      <td>Jefferson City</td>\\n      <td>1826</td>\\n      <td>27.30</td>\\n      <td>43079</td>\\n      <td>149807.0</td>\\n      <td>15</td>\\n      <td>NaN</td>\\n      <td>NaN</td>\\n    </tr>\\n    <tr>\\n      <th>Montana</th>\\n      <td>MT</td>\\n      <td>1889</td>\\n      <td>Helena</td>\\n      <td>1875</td>\\n      <td>14.00</td>\\n      <td>28190</td>\\n      <td>74801.0</td>\\n      <td>6</td>\\n      <td>NaN</td>\\n      <td>NaN</td>\\n    </tr>\\n    <tr>\\n      <th>Nebraska</th>\\n      <td>NE</td>\\n      <td>1867</td>\\n      <td>Lincoln</td>\\n      <td>1867</td>\\n      <td>74.60</td>\\n      <td>258379</td>\\n      <td>302157.0</td>\\n      <td>2</td>\\n      <td>72.0</td>\\n      <td>NaN</td>\\n    </tr>\\n    <tr>\\n      <th>Nevada</th>\\n      <td>NV</td>\\n      <td>1864</td>\\n      <td>Carson City</td>\\n      <td>1861</td>\\n      <td>143.40</td>\\n      <td>55274</td>\\n      <td>NaN</td>\\n      <td>6</td>\\n      <td>NaN</td>\\n      <td>One of two independent cities that serves as a...</td>\\n    </tr>\\n    <tr>\\n      <th>New Hampshire</th>\\n      <td>NH</td>\\n      <td>1788</td>\\n      <td>Concord</td>\\n      <td>1808</td>\\n      <td>64.30</td>\\n      <td>42695</td>\\n      <td>NaN</td>\\n      <td>3</td>\\n      <td>NaN</td>\\n      <td>NaN</td>\\n    </tr>\\n    <tr>\\n      <th>New Jersey</th>\\n      <td>NJ</td>\\n      <td>1787</td>\\n      <td>Trenton</td>\\n      <td>1784</td>\\n      <td>7.66</td>\\n      <td>84913</td>\\n      <td>366513.0</td>\\n      <td>10</td>\\n      <td>NaN</td>\\n      <td>Served as the U.S. capital for a short period ...</td>\\n    </tr>\\n    <tr>\\n      <th>New Mexico</th>\\n      <td>NM</td>\\n      <td>1912</td>\\n      <td>Santa Fe</td>\\n      <td>1610</td>\\n      <td>37.30</td>\\n      <td>75764</td>\\n      <td>183732.0</td>\\n      <td>4</td>\\n      <td>NaN</td>\\n      <td>Longest serving capital in the United States. ...</td>\\n    </tr>\\n    <tr>\\n      <th>New York</th>\\n      <td>NY</td>\\n      <td>1788</td>\\n      <td>Albany</td>\\n      <td>1797</td>\\n      <td>21.40</td>\\n      <td>97856</td>\\n      <td>857592.0</td>\\n      <td>6</td>\\n      <td>NaN</td>\\n      <td>NaN</td>\\n    </tr>\\n    <tr>\\n      <th>North Carolina</th>\\n      <td>NC</td>\\n      <td>1789</td>\\n      <td>Raleigh</td>\\n      <td>1792</td>\\n      <td>114.60</td>\\n      <td>403892</td>\\n      <td>1130490.0</td>\\n      <td>2</td>\\n      <td>43.0</td>\\n      <td>NaN</td>\\n    </tr>\\n    <tr>\\n      <th>North Dakota</th>\\n      <td>ND</td>\\n      <td>1889</td>\\n      <td>Bismarck</td>\\n      <td>1883</td>\\n      <td>26.90</td>\\n      <td>61272</td>\\n      <td>108779.0</td>\\n      <td>2</td>\\n      <td>NaN</td>\\n      <td>NaN</td>\\n    </tr>\\n    <tr>\\n      <th>Ohio</th>\\n      <td>OH</td>\\n      <td>1803</td>\\n      <td>Columbus</td>\\n      <td>1816</td>\\n      <td>210.30</td>\\n      <td>879170</td>\\n      <td>2078725.0</td>\\n      <td>1</td>\\n      <td>14.0</td>\\n      <td>Columbus is the largest city in Ohio, the seco...</td>\\n    </tr>\\n    <tr>\\n      <th>Oklahoma</th>\\n      <td>OK</td>\\n      <td>1907</td>\\n      <td>Oklahoma City</td>\\n      <td>1910</td>\\n      <td>607.00</td>\\n      <td>579999</td>\\n      <td>1252987.0</td>\\n      <td>1</td>\\n      <td>31.0</td>\\n      <td>Shortest serving current state capital.</td>\\n    </tr>\\n    <tr>\\n      <th>Oregon</th>\\n      <td>OR</td>\\n      <td>1859</td>\\n      <td>Salem</td>\\n      <td>1855</td>\\n      <td>45.70</td>\\n      <td>154637</td>\\n      <td>390738.0</td>\\n      <td>3</td>\\n      <td>149.0</td>\\n      <td>NaN</td>\\n    </tr>\\n    <tr>\\n      <th>Pennsylvania</th>\\n      <td>PA</td>\\n      <td>1787</td>\\n      <td>Harrisburg</td>\\n      <td>1812</td>\\n      <td>8.11</td>\\n      <td>49528</td>\\n      <td>647390.0</td>\\n      <td>9</td>\\n      <td>NaN</td>\\n      <td>NaN</td>\\n    </tr>\\n    <tr>\\n      <th>Rhode Island</th>\\n      <td>RI</td>\\n      <td>1790</td>\\n      <td>Providence</td>\\n      <td>1900</td>\\n      <td>18.50</td>\\n      <td>178042</td>\\n      <td>1600852.0</td>\\n      <td>1</td>\\n      <td>130.0</td>\\n      <td>Also served as the state\\'s capital 1636–1686 a...</td>\\n    </tr>\\n    <tr>\\n      <th>South Carolina</th>\\n      <td>SC</td>\\n      <td>1788</td>\\n      <td>Columbia</td>\\n      <td>1786</td>\\n      <td>125.20</td>\\n      <td>129272</td>\\n      <td>767598.0</td>\\n      <td>2</td>\\n      <td>191.0</td>\\n      <td>NaN</td>\\n    </tr>\\n    <tr>\\n      <th>South Dakota</th>\\n      <td>SD</td>\\n      <td>1889</td>\\n      <td>Pierre</td>\\n      <td>1889</td>\\n      <td>13.00</td>\\n      <td>13646</td>\\n      <td>NaN</td>\\n      <td>8</td>\\n      <td>NaN</td>\\n      <td>NaN</td>\\n    </tr>\\n    <tr>\\n      <th>Tennessee</th>\\n      <td>TN</td>\\n      <td>1796</td>\\n      <td>Nashville</td>\\n      <td>1826</td>\\n      <td>473.30</td>\\n      <td>601222</td>\\n      <td>1670890.0</td>\\n      <td>1</td>\\n      <td>25.0</td>\\n      <td>NaN</td>\\n    </tr>\\n    <tr>\\n      <th>Texas</th>\\n      <td>TX</td>\\n      <td>1845</td>\\n      <td>Austin</td>\\n      <td>1839</td>\\n      <td>251.50</td>\\n      <td>790390</td>\\n      <td>1716291.0</td>\\n      <td>4</td>\\n      <td>11.0</td>\\n      <td>Austin is the largest state capital that is no...</td>\\n    </tr>\\n    <tr>\\n      <th>Utah</th>\\n      <td>UT</td>\\n      <td>1896</td>\\n      <td>Salt Lake City</td>\\n      <td>1858</td>\\n      <td>109.10</td>\\n      <td>186440</td>\\n      <td>1087873.0</td>\\n      <td>1</td>\\n      <td>124.0</td>\\n      <td>NaN</td>\\n    </tr>\\n    <tr>\\n      <th>Vermont</th>\\n      <td>VT</td>\\n      <td>1791</td>\\n      <td>Montpelier</td>\\n      <td>1805</td>\\n      <td>10.20</td>\\n      <td>7855</td>\\n      <td>NaN</td>\\n      <td>6</td>\\n      <td>NaN</td>\\n      <td>Least populous U.S. state capital.</td>\\n    </tr>\\n    <tr>\\n      <th>Virginia</th>\\n      <td>VA</td>\\n      <td>1788</td>\\n      <td>Richmond</td>\\n      <td>1780</td>\\n      <td>60.10</td>\\n      <td>204214</td>\\n      <td>1208101.0</td>\\n      <td>4</td>\\n      <td>104.0</td>\\n      <td>Richmond is one of two independent cities that...</td>\\n    </tr>\\n    <tr>\\n      <th>Washington</th>\\n      <td>WA</td>\\n      <td>1889</td>\\n      <td>Olympia</td>\\n      <td>1853</td>\\n      <td>16.70</td>\\n      <td>46478</td>\\n      <td>234670.0</td>\\n      <td>24</td>\\n      <td>NaN</td>\\n      <td>NaN</td>\\n    </tr>\\n    <tr>\\n      <th>West Virginia</th>\\n      <td>WV</td>\\n      <td>1863</td>\\n      <td>Charleston</td>\\n      <td>1885</td>\\n      <td>31.60</td>\\n      <td>51400</td>\\n      <td>304214.0</td>\\n      <td>1</td>\\n      <td>NaN</td>\\n      <td>Charleston is the smallest capital city that i...</td>\\n    </tr>\\n    <tr>\\n      <th>Wisconsin</th>\\n      <td>WI</td>\\n      <td>1848</td>\\n      <td>Madison</td>\\n      <td>1838</td>\\n      <td>68.70</td>\\n      <td>233209</td>\\n      <td>605435.0</td>\\n      <td>2</td>\\n      <td>82.0</td>\\n      <td>NaN</td>\\n    </tr>\\n    <tr>\\n      <th>Wyoming</th>\\n      <td>WY</td>\\n      <td>1890</td>\\n      <td>Cheyenne</td>\\n      <td>1869</td>\\n      <td>21.10</td>\\n      <td>59466</td>\\n      <td>91738.0</td>\\n      <td>1</td>\\n      <td>NaN</td>\\n      <td>NaN</td>\\n    </tr>\\n  </tbody>\\n</table>'"
      ]
     },
     "execution_count": 9,
     "metadata": {},
     "output_type": "execute_result"
    }
   ],
   "source": [
    "html_table = df.to_html()\n",
    "html_table"
   ]
  },
  {
   "cell_type": "markdown",
   "metadata": {
    "slideshow": {
     "slide_type": "subslide"
    }
   },
   "source": [
    "You may have to strip unwanted newlines to clean up the table."
   ]
  },
  {
   "cell_type": "code",
   "execution_count": 10,
   "metadata": {
    "slideshow": {
     "slide_type": "fragment"
    }
   },
   "outputs": [
    {
     "data": {
      "text/plain": [
       "'<table border=\"1\" class=\"dataframe\">  <thead>    <tr style=\"text-align: right;\">      <th></th>      <th>Abr.</th>      <th>State-hood Rank</th>      <th>Capital</th>      <th>Capital Since</th>      <th>Area (sq-mi)</th>      <th>Municipal Population</th>      <th>Metropolitan</th>      <th>Metropolitan Population</th>      <th>Population Rank</th>      <th>Notes</th>    </tr>    <tr>      <th>State</th>      <th></th>      <th></th>      <th></th>      <th></th>      <th></th>      <th></th>      <th></th>      <th></th>      <th></th>      <th></th>    </tr>  </thead>  <tbody>    <tr>      <th>Arizona</th>      <td>AZ</td>      <td>1912</td>      <td>Phoenix</td>      <td>1889</td>      <td>474.90</td>      <td>1445632</td>      <td>4192887.0</td>      <td>1</td>      <td>6.0</td>      <td>Phoenix is the most populous capital city in t...</td>    </tr>    <tr>      <th>Arkansas</th>      <td>AR</td>      <td>1836</td>      <td>Little Rock</td>      <td>1821</td>      <td>116.20</td>      <td>193524</td>      <td>699757.0</td>      <td>1</td>      <td>117.0</td>      <td>NaN</td>    </tr>    <tr>      <th>California</th>      <td>CA</td>      <td>1850</td>      <td>Sacramento</td>      <td>1854</td>      <td>97.20</td>      <td>466488</td>      <td>2149127.0</td>      <td>6</td>      <td>35.0</td>      <td>NaN</td>    </tr>    <tr>      <th>Colorado</th>      <td>CO</td>      <td>1876</td>      <td>Denver</td>      <td>1867</td>      <td>153.40</td>      <td>600158</td>      <td>2543482.0</td>      <td>1</td>      <td>26.0</td>      <td>Denver was called Denver City until 1882.</td>    </tr>    <tr>      <th>Connecticut</th>      <td>CT</td>      <td>1788</td>      <td>Hartford</td>      <td>1875</td>      <td>17.30</td>      <td>124775</td>      <td>1212381.0</td>      <td>3</td>      <td>199.0</td>      <td>NaN</td>    </tr>    <tr>      <th>Delaware</th>      <td>DE</td>      <td>1787</td>      <td>Dover</td>      <td>1777</td>      <td>22.40</td>      <td>36047</td>      <td>162310.0</td>      <td>2</td>      <td>NaN</td>      <td>Longest-serving capital in terms of statehood.</td>    </tr>    <tr>      <th>Florida</th>      <td>FL</td>      <td>1845</td>      <td>Tallahassee</td>      <td>1824</td>      <td>95.70</td>      <td>181376</td>      <td>367413.0</td>      <td>7</td>      <td>125.0</td>      <td>NaN</td>    </tr>    <tr>      <th>Georgia</th>      <td>GA</td>      <td>1788</td>      <td>Atlanta</td>      <td>1868</td>      <td>131.70</td>      <td>420003</td>      <td>5286728.0</td>      <td>1</td>      <td>40.0</td>      <td>Most populous metro area of any state capital.</td>    </tr>    <tr>      <th>Hawaii</th>      <td>HI</td>      <td>1959</td>      <td>Honolulu</td>      <td>1845</td>      <td>85.70</td>      <td>337256</td>      <td>953207.0</td>      <td>1</td>      <td>53.0</td>      <td>NaN</td>    </tr>    <tr>      <th>Idaho</th>      <td>ID</td>      <td>1890</td>      <td>Boise</td>      <td>1865</td>      <td>63.80</td>      <td>205671</td>      <td>616561.0</td>      <td>1</td>      <td>103.0</td>      <td>NaN</td>    </tr>    <tr>      <th>Illinois</th>      <td>IL</td>      <td>1818</td>      <td>Springfield</td>      <td>1837</td>      <td>54.00</td>      <td>116250</td>      <td>210170.0</td>      <td>6</td>      <td>221.0</td>      <td>Springfield was once home to Abraham Lincoln.</td>    </tr>    <tr>      <th>Indiana</th>      <td>IN</td>      <td>1816</td>      <td>Indianapolis</td>      <td>1825</td>      <td>361.50</td>      <td>820445</td>      <td>1887877.0</td>      <td>1</td>      <td>16.0</td>      <td>NaN</td>    </tr>    <tr>      <th>Iowa</th>      <td>IA</td>      <td>1846</td>      <td>Des Moines</td>      <td>1857</td>      <td>75.80</td>      <td>203433</td>      <td>569633.0</td>      <td>1</td>      <td>105.0</td>      <td>NaN</td>    </tr>    <tr>      <th>Kansas</th>      <td>KS</td>      <td>1861</td>      <td>Topeka</td>      <td>1856</td>      <td>56.00</td>      <td>127473</td>      <td>230870.0</td>      <td>4</td>      <td>193.0</td>      <td>NaN</td>    </tr>    <tr>      <th>Kentucky</th>      <td>KY</td>      <td>1792</td>      <td>Frankfort</td>      <td>1792</td>      <td>14.70</td>      <td>25527</td>      <td>70758.0</td>      <td>14</td>      <td>NaN</td>      <td>NaN</td>    </tr>    <tr>      <th>Louisiana</th>      <td>LA</td>      <td>1812</td>      <td>Baton Rouge</td>      <td>1880</td>      <td>76.80</td>      <td>229493</td>      <td>802484.0</td>      <td>2</td>      <td>85.0</td>      <td>Baton Rouge is located in the state\\'s most pop...</td>    </tr>    <tr>      <th>Maine</th>      <td>ME</td>      <td>1820</td>      <td>Augusta</td>      <td>1832</td>      <td>55.40</td>      <td>19136</td>      <td>117114.0</td>      <td>8</td>      <td>NaN</td>      <td>Portland is a previous capital.</td>    </tr>    <tr>      <th>Maryland</th>      <td>MD</td>      <td>1788</td>      <td>Annapolis</td>      <td>1694</td>      <td>6.73</td>      <td>38394</td>      <td>NaN</td>      <td>7</td>      <td>NaN</td>      <td>Smallest capital by land area. Capitol buildin...</td>    </tr>    <tr>      <th>Massachusetts</th>      <td>MA</td>      <td>1788</td>      <td>Boston</td>      <td>1630</td>      <td>48.40</td>      <td>617594</td>      <td>4552402.0</td>      <td>1</td>      <td>22.0</td>      <td>Longest continuously serving capital in the U.S.</td>    </tr>    <tr>      <th>Michigan</th>      <td>MI</td>      <td>1837</td>      <td>Lansing</td>      <td>1847</td>      <td>35.00</td>      <td>114297</td>      <td>464036.0</td>      <td>5</td>      <td>226.0</td>      <td>Only state capital that is not also its county...</td>    </tr>    <tr>      <th>Minnesota</th>      <td>MN</td>      <td>1858</td>      <td>Saint Paul</td>      <td>1849</td>      <td>52.80</td>      <td>285068</td>      <td>3348659.0</td>      <td>2</td>      <td>67.0</td>      <td>NaN</td>    </tr>    <tr>      <th>Mississippi</th>      <td>MS</td>      <td>1817</td>      <td>Jackson</td>      <td>1821</td>      <td>104.90</td>      <td>173514</td>      <td>567122.0</td>      <td>1</td>      <td>134.0</td>      <td>Only state capital that shares its status as c...</td>    </tr>    <tr>      <th>Missouri</th>      <td>MO</td>      <td>1821</td>      <td>Jefferson City</td>      <td>1826</td>      <td>27.30</td>      <td>43079</td>      <td>149807.0</td>      <td>15</td>      <td>NaN</td>      <td>NaN</td>    </tr>    <tr>      <th>Montana</th>      <td>MT</td>      <td>1889</td>      <td>Helena</td>      <td>1875</td>      <td>14.00</td>      <td>28190</td>      <td>74801.0</td>      <td>6</td>      <td>NaN</td>      <td>NaN</td>    </tr>    <tr>      <th>Nebraska</th>      <td>NE</td>      <td>1867</td>      <td>Lincoln</td>      <td>1867</td>      <td>74.60</td>      <td>258379</td>      <td>302157.0</td>      <td>2</td>      <td>72.0</td>      <td>NaN</td>    </tr>    <tr>      <th>Nevada</th>      <td>NV</td>      <td>1864</td>      <td>Carson City</td>      <td>1861</td>      <td>143.40</td>      <td>55274</td>      <td>NaN</td>      <td>6</td>      <td>NaN</td>      <td>One of two independent cities that serves as a...</td>    </tr>    <tr>      <th>New Hampshire</th>      <td>NH</td>      <td>1788</td>      <td>Concord</td>      <td>1808</td>      <td>64.30</td>      <td>42695</td>      <td>NaN</td>      <td>3</td>      <td>NaN</td>      <td>NaN</td>    </tr>    <tr>      <th>New Jersey</th>      <td>NJ</td>      <td>1787</td>      <td>Trenton</td>      <td>1784</td>      <td>7.66</td>      <td>84913</td>      <td>366513.0</td>      <td>10</td>      <td>NaN</td>      <td>Served as the U.S. capital for a short period ...</td>    </tr>    <tr>      <th>New Mexico</th>      <td>NM</td>      <td>1912</td>      <td>Santa Fe</td>      <td>1610</td>      <td>37.30</td>      <td>75764</td>      <td>183732.0</td>      <td>4</td>      <td>NaN</td>      <td>Longest serving capital in the United States. ...</td>    </tr>    <tr>      <th>New York</th>      <td>NY</td>      <td>1788</td>      <td>Albany</td>      <td>1797</td>      <td>21.40</td>      <td>97856</td>      <td>857592.0</td>      <td>6</td>      <td>NaN</td>      <td>NaN</td>    </tr>    <tr>      <th>North Carolina</th>      <td>NC</td>      <td>1789</td>      <td>Raleigh</td>      <td>1792</td>      <td>114.60</td>      <td>403892</td>      <td>1130490.0</td>      <td>2</td>      <td>43.0</td>      <td>NaN</td>    </tr>    <tr>      <th>North Dakota</th>      <td>ND</td>      <td>1889</td>      <td>Bismarck</td>      <td>1883</td>      <td>26.90</td>      <td>61272</td>      <td>108779.0</td>      <td>2</td>      <td>NaN</td>      <td>NaN</td>    </tr>    <tr>      <th>Ohio</th>      <td>OH</td>      <td>1803</td>      <td>Columbus</td>      <td>1816</td>      <td>210.30</td>      <td>879170</td>      <td>2078725.0</td>      <td>1</td>      <td>14.0</td>      <td>Columbus is the largest city in Ohio, the seco...</td>    </tr>    <tr>      <th>Oklahoma</th>      <td>OK</td>      <td>1907</td>      <td>Oklahoma City</td>      <td>1910</td>      <td>607.00</td>      <td>579999</td>      <td>1252987.0</td>      <td>1</td>      <td>31.0</td>      <td>Shortest serving current state capital.</td>    </tr>    <tr>      <th>Oregon</th>      <td>OR</td>      <td>1859</td>      <td>Salem</td>      <td>1855</td>      <td>45.70</td>      <td>154637</td>      <td>390738.0</td>      <td>3</td>      <td>149.0</td>      <td>NaN</td>    </tr>    <tr>      <th>Pennsylvania</th>      <td>PA</td>      <td>1787</td>      <td>Harrisburg</td>      <td>1812</td>      <td>8.11</td>      <td>49528</td>      <td>647390.0</td>      <td>9</td>      <td>NaN</td>      <td>NaN</td>    </tr>    <tr>      <th>Rhode Island</th>      <td>RI</td>      <td>1790</td>      <td>Providence</td>      <td>1900</td>      <td>18.50</td>      <td>178042</td>      <td>1600852.0</td>      <td>1</td>      <td>130.0</td>      <td>Also served as the state\\'s capital 1636–1686 a...</td>    </tr>    <tr>      <th>South Carolina</th>      <td>SC</td>      <td>1788</td>      <td>Columbia</td>      <td>1786</td>      <td>125.20</td>      <td>129272</td>      <td>767598.0</td>      <td>2</td>      <td>191.0</td>      <td>NaN</td>    </tr>    <tr>      <th>South Dakota</th>      <td>SD</td>      <td>1889</td>      <td>Pierre</td>      <td>1889</td>      <td>13.00</td>      <td>13646</td>      <td>NaN</td>      <td>8</td>      <td>NaN</td>      <td>NaN</td>    </tr>    <tr>      <th>Tennessee</th>      <td>TN</td>      <td>1796</td>      <td>Nashville</td>      <td>1826</td>      <td>473.30</td>      <td>601222</td>      <td>1670890.0</td>      <td>1</td>      <td>25.0</td>      <td>NaN</td>    </tr>    <tr>      <th>Texas</th>      <td>TX</td>      <td>1845</td>      <td>Austin</td>      <td>1839</td>      <td>251.50</td>      <td>790390</td>      <td>1716291.0</td>      <td>4</td>      <td>11.0</td>      <td>Austin is the largest state capital that is no...</td>    </tr>    <tr>      <th>Utah</th>      <td>UT</td>      <td>1896</td>      <td>Salt Lake City</td>      <td>1858</td>      <td>109.10</td>      <td>186440</td>      <td>1087873.0</td>      <td>1</td>      <td>124.0</td>      <td>NaN</td>    </tr>    <tr>      <th>Vermont</th>      <td>VT</td>      <td>1791</td>      <td>Montpelier</td>      <td>1805</td>      <td>10.20</td>      <td>7855</td>      <td>NaN</td>      <td>6</td>      <td>NaN</td>      <td>Least populous U.S. state capital.</td>    </tr>    <tr>      <th>Virginia</th>      <td>VA</td>      <td>1788</td>      <td>Richmond</td>      <td>1780</td>      <td>60.10</td>      <td>204214</td>      <td>1208101.0</td>      <td>4</td>      <td>104.0</td>      <td>Richmond is one of two independent cities that...</td>    </tr>    <tr>      <th>Washington</th>      <td>WA</td>      <td>1889</td>      <td>Olympia</td>      <td>1853</td>      <td>16.70</td>      <td>46478</td>      <td>234670.0</td>      <td>24</td>      <td>NaN</td>      <td>NaN</td>    </tr>    <tr>      <th>West Virginia</th>      <td>WV</td>      <td>1863</td>      <td>Charleston</td>      <td>1885</td>      <td>31.60</td>      <td>51400</td>      <td>304214.0</td>      <td>1</td>      <td>NaN</td>      <td>Charleston is the smallest capital city that i...</td>    </tr>    <tr>      <th>Wisconsin</th>      <td>WI</td>      <td>1848</td>      <td>Madison</td>      <td>1838</td>      <td>68.70</td>      <td>233209</td>      <td>605435.0</td>      <td>2</td>      <td>82.0</td>      <td>NaN</td>    </tr>    <tr>      <th>Wyoming</th>      <td>WY</td>      <td>1890</td>      <td>Cheyenne</td>      <td>1869</td>      <td>21.10</td>      <td>59466</td>      <td>91738.0</td>      <td>1</td>      <td>NaN</td>      <td>NaN</td>    </tr>  </tbody></table>'"
      ]
     },
     "execution_count": 10,
     "metadata": {},
     "output_type": "execute_result"
    }
   ],
   "source": [
    "html_table.replace('\\n', '')"
   ]
  },
  {
   "cell_type": "markdown",
   "metadata": {
    "slideshow": {
     "slide_type": "subslide"
    }
   },
   "source": [
    "You can also save the table directly to a file."
   ]
  },
  {
   "cell_type": "code",
   "execution_count": 11,
   "metadata": {
    "slideshow": {
     "slide_type": "fragment"
    }
   },
   "outputs": [],
   "source": [
    "df.to_html('table.html')"
   ]
  },
  {
   "cell_type": "code",
   "execution_count": 12,
   "metadata": {
    "slideshow": {
     "slide_type": "fragment"
    }
   },
   "outputs": [],
   "source": [
    "# OSX Users can run this to open the file in a browser, \n",
    "# or you can manually find the file and open it in the browser\n",
    "!open table.html"
   ]
  },
  {
   "cell_type": "code",
   "execution_count": null,
   "metadata": {},
   "outputs": [],
   "source": []
  }
 ],
 "metadata": {
  "celltoolbar": "Slideshow",
  "kernelspec": {
   "display_name": "Python 3",
   "language": "python",
   "name": "python3"
  },
  "language_info": {
   "codemirror_mode": {
    "name": "ipython",
    "version": 3
   },
   "file_extension": ".py",
   "mimetype": "text/x-python",
   "name": "python",
   "nbconvert_exporter": "python",
   "pygments_lexer": "ipython3",
   "version": "3.7.2"
  },
  "varInspector": {
   "cols": {
    "lenName": 16,
    "lenType": 16,
    "lenVar": 40
   },
   "kernels_config": {
    "python": {
     "delete_cmd_postfix": "",
     "delete_cmd_prefix": "del ",
     "library": "var_list.py",
     "varRefreshCmd": "print(var_dic_list())"
    },
    "r": {
     "delete_cmd_postfix": ") ",
     "delete_cmd_prefix": "rm(",
     "library": "var_list.r",
     "varRefreshCmd": "cat(var_dic_list()) "
    }
   },
   "types_to_exclude": [
    "module",
    "function",
    "builtin_function_or_method",
    "instance",
    "_Feature"
   ],
   "window_display": false
  }
 },
 "nbformat": 4,
 "nbformat_minor": 2
}
